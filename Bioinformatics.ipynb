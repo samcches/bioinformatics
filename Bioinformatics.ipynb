{
 "cells": [
  {
   "cell_type": "markdown",
   "metadata": {},
   "source": [
    "# Finding Hidden Messages in DNA ~ Code Challenges"
   ]
  },
  {
   "cell_type": "code",
   "execution_count": 1,
   "metadata": {},
   "outputs": [],
   "source": [
    "def PatternCount(T, P):\n",
    "    count = 0\n",
    "    for i in range(0, (abs(len(T))-abs(len(P)))): #if using with symbol array + 1\n",
    "        if T[i:i+len(P)]==P:\n",
    "            count += 1\n",
    "    return count"
   ]
  },
  {
   "cell_type": "code",
   "execution_count": 2,
   "metadata": {},
   "outputs": [
    {
     "data": {
      "text/plain": [
       "25"
      ]
     },
     "execution_count": 2,
     "metadata": {},
     "output_type": "execute_result"
    }
   ],
   "source": [
    "T ='ATTAGCGGGTCAGACGGGTCAGACTTAAGGTCAGACGACATTGTGGTCAGACCTTTCGGATAGCGTCAGACGGGGTCAGACGTGGGTCAGACATAGTCAGACGTCAGACACTTTGTCAGACTCCACTGAAGTCAGACAGTATTAGAAACGCTGTCAGACGTCAGACGTCAGACAGTCAGACATGTCAGACGGTCAGACTACGCGAGAGTCAAATCCGTCAGACGTCAGACTGATTAAGTCAGACCGGTGTCGTCAGACCTGGCGTCAGACTCGATGCGTCAGACCGGGTCAGACCCGGTCAGACGTCAGACGCGTCAGACGTCAGACGGATTTTGGTCAGACTTCCTAGGTCAGACTAAGGTCAGACCGCTTGTCAGACGTGAAGATCAAGCTCGAGGGATGTCAGACTGACAGTCAGACTCATGCATCGTCAGACATGTCAGACATCCGAGTCGTCAGACGTAGTCAGACCGCTGCGTCAGACAACTGGCGCAGTCAGACCGTCAGACCGGAGTCAGACTGGTGTCAGACCGTCAGACATAAAGTCAGACGTCAGACGTCAGACGTGCAGTCAGACCGTCAGACGCGTCAGACGTGTCAGACGTCAGACAAATGTCAGACAGTCAGACGGTCAGACTAGTCAGACTGATAGTCAGACTGTCAGACGGCCTTGGCTTGTCAGACTCCCTGTCAGACGTCAGACCAGTCAGACGACTTGGTGTCAGACCCGTCAGACTGGTGTCAGACGTCAGACGTCAGACAGTCAGACCTATCGTCAGACGTCAGACGTCAGACGTCAGACAATGTCAGACGTCAGACCGTCAGACAAATCGAAGTCAGACGTCAGACTTCGGTCAGACTTCGTCAGACCGTCAGACGTCAGACGGTCAGACGTGGACTGTCAGACCTGTCAGACGTCAGACGAATGGTCAGACAAGGTCTGTCAGACCGTGTCAGACCTACAAGGTCAGACCTAGTCAGAC'\n",
    "P = 'GTCAGACGT'\n",
    "PatternCount(T, P)"
   ]
  },
  {
   "cell_type": "code",
   "execution_count": 3,
   "metadata": {},
   "outputs": [
    {
     "data": {
      "text/plain": [
       "4"
      ]
     },
     "execution_count": 3,
     "metadata": {},
     "output_type": "execute_result"
    }
   ],
   "source": [
    "T = \"ACTGTACGATGATGTGTGTCAAAG\"\n",
    "P = \"TGT\"\n",
    "\n",
    "PatternCount(T, P)"
   ]
  },
  {
   "cell_type": "code",
   "execution_count": 4,
   "metadata": {},
   "outputs": [],
   "source": [
    "def FrequentWords(Text, k):\n",
    "    words = []\n",
    "    freq = FrequencyMap(Text, k)\n",
    "    m = max(freq.values())\n",
    "    for key in freq:\n",
    "        if freq[key] == m:\n",
    "            words.append(key)\n",
    "    return words\n",
    "\n",
    "def FrequencyMap(Text, k):\n",
    "    freq = {}\n",
    "    n = len(Text)\n",
    "    for i in range(n-k+1):\n",
    "        Pattern = Text[i:i+k]\n",
    "        freq[Pattern] = 0\n",
    "        for i in range(n-k+1):\n",
    "            if Text[i:i+k] == Pattern:\n",
    "                freq[Pattern] += 1\n",
    "    return freq"
   ]
  },
  {
   "cell_type": "code",
   "execution_count": 5,
   "metadata": {},
   "outputs": [
    {
     "data": {
      "text/plain": [
       "['ACTGTACGA',\n",
       " 'CTGTACGAT',\n",
       " 'TGTACGATG',\n",
       " 'GTACGATGA',\n",
       " 'TACGATGAT',\n",
       " 'ACGATGATG',\n",
       " 'CGATGATGT',\n",
       " 'GATGATGTG',\n",
       " 'ATGATGTGT',\n",
       " 'TGATGTGTG',\n",
       " 'GATGTGTGT',\n",
       " 'ATGTGTGTC',\n",
       " 'TGTGTGTCA',\n",
       " 'GTGTGTCAA',\n",
       " 'TGTGTCAAA',\n",
       " 'GTGTCAAAG']"
      ]
     },
     "execution_count": 5,
     "metadata": {},
     "output_type": "execute_result"
    }
   ],
   "source": [
    "FrequentWords(T, 9)"
   ]
  },
  {
   "cell_type": "code",
   "execution_count": 6,
   "metadata": {},
   "outputs": [
    {
     "data": {
      "text/plain": [
       "['CCT']"
      ]
     },
     "execution_count": 6,
     "metadata": {},
     "output_type": "execute_result"
    }
   ],
   "source": [
    "FrequentWords('CGCCTAAATAGCCTCGCGGAGCCTTATGTCATACTCGTCCT', 3)"
   ]
  },
  {
   "cell_type": "code",
   "execution_count": 7,
   "metadata": {},
   "outputs": [],
   "source": [
    "def Reverse(Pattern):\n",
    "    for i in Pattern:\n",
    "        rev = \"\".join(reversed(Pattern))\n",
    "    return rev"
   ]
  },
  {
   "cell_type": "code",
   "execution_count": 8,
   "metadata": {},
   "outputs": [],
   "source": [
    "def Complement(Pattern):\n",
    "    dict = {'A':'T', 'C':'G', 'G':'C', 'T':'A'}\n",
    "    complement = \"\"\n",
    "    return complement.join(dict[i] for i in Pattern)"
   ]
  },
  {
   "cell_type": "code",
   "execution_count": 9,
   "metadata": {},
   "outputs": [],
   "source": [
    "def PatternMatching(Pattern, Genome):\n",
    "    positions = []\n",
    "    for i in range(len(Genome)-len(Pattern) + 1):\n",
    "        if Genome[i:i+len(Pattern)] == Pattern:\n",
    "            positions.append(i)\n",
    "    return positions"
   ]
  },
  {
   "cell_type": "code",
   "execution_count": 10,
   "metadata": {},
   "outputs": [],
   "source": [
    "def SymbolArray(Genome, symbol):\n",
    "    array = {}\n",
    "    n = len(Genome)\n",
    "    ExtendedGenome = Genome + Genome[0:n//2]\n",
    "    for i in range(n):\n",
    "        array[i] = PatternCount(symbol, ExtendedGenome[i:i+(n//2)])\n",
    "    return array"
   ]
  },
  {
   "cell_type": "code",
   "execution_count": 11,
   "metadata": {},
   "outputs": [],
   "source": [
    "Genome = \"AGCGTGCCGAAATATGCCGCCAGACCTGCTGCGGTGGCCTCGCCGACTTCACGGATGCCAAGTGCATAGAGGAAGCGAGCAAAGGTGGTTTCTTTCGCTTTATCCAGCGCGTTAACCACGTTCTGTGCCGACTTT\"\n",
    "symbol =\"CC\""
   ]
  },
  {
   "cell_type": "code",
   "execution_count": 12,
   "metadata": {},
   "outputs": [
    {
     "data": {
      "text/plain": [
       "{0: 0,\n",
       " 1: 0,\n",
       " 2: 0,\n",
       " 3: 0,\n",
       " 4: 0,\n",
       " 5: 0,\n",
       " 6: 0,\n",
       " 7: 0,\n",
       " 8: 0,\n",
       " 9: 0,\n",
       " 10: 0,\n",
       " 11: 0,\n",
       " 12: 0,\n",
       " 13: 0,\n",
       " 14: 0,\n",
       " 15: 0,\n",
       " 16: 0,\n",
       " 17: 0,\n",
       " 18: 0,\n",
       " 19: 0,\n",
       " 20: 0,\n",
       " 21: 0,\n",
       " 22: 0,\n",
       " 23: 0,\n",
       " 24: 0,\n",
       " 25: 0,\n",
       " 26: 0,\n",
       " 27: 0,\n",
       " 28: 0,\n",
       " 29: 0,\n",
       " 30: 0,\n",
       " 31: 0,\n",
       " 32: 0,\n",
       " 33: 0,\n",
       " 34: 0,\n",
       " 35: 0,\n",
       " 36: 0,\n",
       " 37: 0,\n",
       " 38: 0,\n",
       " 39: 0,\n",
       " 40: 0,\n",
       " 41: 0,\n",
       " 42: 0,\n",
       " 43: 0,\n",
       " 44: 0,\n",
       " 45: 0,\n",
       " 46: 0,\n",
       " 47: 0,\n",
       " 48: 0,\n",
       " 49: 0,\n",
       " 50: 0,\n",
       " 51: 0,\n",
       " 52: 0,\n",
       " 53: 0,\n",
       " 54: 0,\n",
       " 55: 0,\n",
       " 56: 0,\n",
       " 57: 0,\n",
       " 58: 0,\n",
       " 59: 0,\n",
       " 60: 0,\n",
       " 61: 0,\n",
       " 62: 0,\n",
       " 63: 0,\n",
       " 64: 0,\n",
       " 65: 0,\n",
       " 66: 0,\n",
       " 67: 0,\n",
       " 68: 0,\n",
       " 69: 0,\n",
       " 70: 0,\n",
       " 71: 0,\n",
       " 72: 0,\n",
       " 73: 0,\n",
       " 74: 0,\n",
       " 75: 0,\n",
       " 76: 0,\n",
       " 77: 0,\n",
       " 78: 0,\n",
       " 79: 0,\n",
       " 80: 0,\n",
       " 81: 0,\n",
       " 82: 0,\n",
       " 83: 0,\n",
       " 84: 0,\n",
       " 85: 0,\n",
       " 86: 0,\n",
       " 87: 0,\n",
       " 88: 0,\n",
       " 89: 0,\n",
       " 90: 0,\n",
       " 91: 0,\n",
       " 92: 0,\n",
       " 93: 0,\n",
       " 94: 0,\n",
       " 95: 0,\n",
       " 96: 0,\n",
       " 97: 0,\n",
       " 98: 0,\n",
       " 99: 0,\n",
       " 100: 0,\n",
       " 101: 0,\n",
       " 102: 0,\n",
       " 103: 0,\n",
       " 104: 0,\n",
       " 105: 0,\n",
       " 106: 0,\n",
       " 107: 0,\n",
       " 108: 0,\n",
       " 109: 0,\n",
       " 110: 0,\n",
       " 111: 0,\n",
       " 112: 0,\n",
       " 113: 0,\n",
       " 114: 0,\n",
       " 115: 0,\n",
       " 116: 0,\n",
       " 117: 0,\n",
       " 118: 0,\n",
       " 119: 0,\n",
       " 120: 0,\n",
       " 121: 0,\n",
       " 122: 0,\n",
       " 123: 0,\n",
       " 124: 0,\n",
       " 125: 0,\n",
       " 126: 0,\n",
       " 127: 0,\n",
       " 128: 0,\n",
       " 129: 0,\n",
       " 130: 0,\n",
       " 131: 0,\n",
       " 132: 0,\n",
       " 133: 0,\n",
       " 134: 0}"
      ]
     },
     "execution_count": 12,
     "metadata": {},
     "output_type": "execute_result"
    }
   ],
   "source": [
    "SymbolArray(Genome, symbol)"
   ]
  },
  {
   "cell_type": "code",
   "execution_count": 13,
   "metadata": {},
   "outputs": [],
   "source": [
    "def FasterSymbolArray(Genome, symbol):\n",
    "    array = {}\n",
    "    n = len(Genome)\n",
    "    ExtendedGenome = Genome + Genome[0:n//2]\n",
    "\n",
    "    # look at the first half of Genome to compute first array value\n",
    "    array[0] = PatternCount(symbol, Genome[0:n//2])\n",
    "\n",
    "    for i in range(1, n):\n",
    "        # start by setting the current array value equal to the previous array value\n",
    "        array[i] = array[i-1]\n",
    "\n",
    "        # the current array value can differ from the previous array value by at most 1\n",
    "        if ExtendedGenome[i-1] == symbol:\n",
    "            array[i] = array[i]-1\n",
    "        if ExtendedGenome[i+(n//2)-1] == symbol:\n",
    "            array[i] = array[i]+1\n",
    "    return array"
   ]
  },
  {
   "cell_type": "code",
   "execution_count": 14,
   "metadata": {},
   "outputs": [],
   "source": [
    "def SkewArray(Genome):\n",
    "    skew = [0]\n",
    "    score = {'A': 0, 'T': 0, 'C': -1, 'G': 1}\n",
    "    for i in range(1, len(Genome) + 1):\n",
    "        skew.append(score[Genome[i-1]] + skew[i-1])\n",
    "    return skew"
   ]
  },
  {
   "cell_type": "code",
   "execution_count": 15,
   "metadata": {},
   "outputs": [],
   "source": [
    "def MinimumSkew(Genome):\n",
    "    positions = []\n",
    "    skew = SkewArray(Genome)\n",
    "    mini = min(skew)\n",
    "    for i in range(0, len(skew)):\n",
    "        if skew[i] == mini:\n",
    "            positions.append(i)\n",
    "    return positions"
   ]
  },
  {
   "cell_type": "code",
   "execution_count": 16,
   "metadata": {},
   "outputs": [],
   "source": [
    "def HammingDistance(p, q):\n",
    "    count = 0\n",
    "    for i, j in zip(p, q):\n",
    "        if i != j:\n",
    "            count += 1\n",
    "    return count"
   ]
  },
  {
   "cell_type": "code",
   "execution_count": 17,
   "metadata": {},
   "outputs": [],
   "source": [
    "def ApproximatePatternMatching(Text, Pattern, d):\n",
    "    positions = []\n",
    "    for i in range(len(Text)-len(Pattern) + 1):\n",
    "        if HammingDistance(Text[i:i+len(Pattern)], Pattern) <= d:\n",
    "            positions.append(i)\n",
    "    return positions"
   ]
  },
  {
   "cell_type": "code",
   "execution_count": 18,
   "metadata": {},
   "outputs": [],
   "source": [
    "def ApproximatePatternCount(Text, Pattern, d):\n",
    "    count = 0\n",
    "    for i in range(len(Text)-len(Pattern) + 1):\n",
    "        if HammingDistance(Text[i:i+len(Pattern)], Pattern) <= d:\n",
    "            count += 1\n",
    "    return count"
   ]
  },
  {
   "cell_type": "code",
   "execution_count": 24,
   "metadata": {},
   "outputs": [],
   "source": [
    "p = \"TGACCCGTTATGCTCGAGTTCGGTCAGAGCGTCATTGCGAGTAGTCGTTTGCTTTCTCAAACTCC\"\n",
    "q = \"GAGCGATTAAGCGTGACAGCCCCAGGGAACCCACAAAACGTGATCGCAGTCCATCCGATCATACA\""
   ]
  },
  {
   "cell_type": "code",
   "execution_count": 25,
   "metadata": {},
   "outputs": [
    {
     "data": {
      "text/plain": [
       "50"
      ]
     },
     "execution_count": 25,
     "metadata": {},
     "output_type": "execute_result"
    }
   ],
   "source": [
    "HammingDistance(p, q)"
   ]
  },
  {
   "cell_type": "code",
   "execution_count": 26,
   "metadata": {},
   "outputs": [
    {
     "data": {
      "text/plain": [
       "[14]"
      ]
     },
     "execution_count": 26,
     "metadata": {},
     "output_type": "execute_result"
    }
   ],
   "source": [
    "MinimumSkew(\"CATTCCAGTACTTCGATGATGGCGTGAAGA\")"
   ]
  },
  {
   "cell_type": "code",
   "execution_count": 27,
   "metadata": {},
   "outputs": [],
   "source": [
    "def Count(Motifs):\n",
    "    count = {}\n",
    "    k = len(Motifs[0])\n",
    "    for symbol in \"ACGT\":\n",
    "        count[symbol] = []\n",
    "        for j in range(k):\n",
    "            count[symbol].append(0)\n",
    "    t = len(Motifs)\n",
    "    for i in range(t):\n",
    "        for j in range(k):\n",
    "            symbol = Motifs[i][j]\n",
    "            count[symbol][j] += 1\n",
    "    return count"
   ]
  },
  {
   "cell_type": "code",
   "execution_count": 28,
   "metadata": {},
   "outputs": [],
   "source": [
    "def Profile(Motifs):\n",
    "    profile = {}\n",
    "    k = len(Motifs[0])\n",
    "    for symbol in \"ACGT\":\n",
    "        profile[symbol] = []\n",
    "        for j in range(k):\n",
    "            profile[symbol].append(0)\n",
    "    t = len(Motifs[0])\n",
    "    for i in range(t):\n",
    "        for j in range(k):\n",
    "            symbol = Motifs[i][j]\n",
    "            profile[symbol[j]] += (1/t)\n",
    "    return profile"
   ]
  },
  {
   "cell_type": "code",
   "execution_count": 29,
   "metadata": {},
   "outputs": [],
   "source": [
    "def Consensus(Motifs):\n",
    "    k = len(Motifs[0])\n",
    "    count = Count(Motifs)\n",
    "    consensus = \"\"\n",
    "    for j in range(k):\n",
    "        m = 0\n",
    "        frequentSymbol = \"\"\n",
    "        for symbol in \"ACGT\":\n",
    "            if count[symbol][j] > m:\n",
    "                m = count[symbol][j]\n",
    "                frequentSymbol = symbol\n",
    "        consensus += frequentSymbol\n",
    "    return consensus"
   ]
  },
  {
   "cell_type": "code",
   "execution_count": 30,
   "metadata": {},
   "outputs": [],
   "source": [
    "def Score(Motifs):\n",
    "    consensus = Consensus(Motifs)\n",
    "    count = 0\n",
    "    for motif in Motifs:\n",
    "        for i in range(len(motif)):\n",
    "            if motif[i] != consensus[i]:\n",
    "                count += 1\n",
    "    return count"
   ]
  },
  {
   "cell_type": "code",
   "execution_count": 31,
   "metadata": {},
   "outputs": [],
   "source": [
    "def Pr(Text, Profile):\n",
    "    p = 1\n",
    "    for i, b in enumerate(Text):\n",
    "        p *= Profile[b][i]\n",
    "    return p"
   ]
  },
  {
   "cell_type": "code",
   "execution_count": 32,
   "metadata": {},
   "outputs": [],
   "source": [
    "def ProfileMostProbableKmer(Text, k, Profile):\n",
    "    maxi = -1\n",
    "    x = 0\n",
    "    for i in range(len(Text)-k+1):\n",
    "        out = Pr(Text[i:i+k], Profile)\n",
    "        if out > maxi:\n",
    "            maxi = out\n",
    "            x = i\n",
    "    ans = Text[x:x+k]\n",
    "    return ans"
   ]
  },
  {
   "cell_type": "code",
   "execution_count": 33,
   "metadata": {},
   "outputs": [],
   "source": [
    "def GreedyMotifSearch(Dna, k, t):\n",
    "    BestMotifs = []\n",
    "    for i in range(0, t):\n",
    "        BestMotifs.append(Dna[i][0:k])\n",
    "    n = len(Dna[0])\n",
    "    for i in range(n-k+1):\n",
    "        Motifs = []\n",
    "        Motifs.append(Dna[0][i:i+k])\n",
    "        for j in range(1, t):\n",
    "            P = Profile(Motifs[0:j])\n",
    "            Motifs.append(ProfileMostProbablePattern(Dna[j], k, P))\n",
    "        if Score(Motifs) < Score(BestMotifs):\n",
    "            BestMotifs = Motifs\n",
    "    return BestMotifs"
   ]
  },
  {
   "cell_type": "code",
   "execution_count": null,
   "metadata": {},
   "outputs": [],
   "source": [
    "#Alternative Functions\n",
    "\n",
    "def Profile(Motifs):\n",
    "    t = len(Motifs)\n",
    "    k = len(Motifs[0])\n",
    "    profile = Count(Motifs)\n",
    "    for i in 'ACTG':\n",
    "        for j in range(k):\n",
    "            profile[i][j] = profile[i][j]/t  \n",
    "    return profile\n",
    "\n",
    "def Score(Motifs):\n",
    "    # Insert code here\n",
    "    score = 0\n",
    "    k = len(Motifs[0])\n",
    "    count = Count(Motifs)\n",
    "    max_symbol = Consensus(Motifs)\n",
    "    sum1 = 0\n",
    "    for j in range(k):\n",
    "        m = 0\n",
    "        for symbol in \"ATCG\":\n",
    "            if count[symbol][j] > m:\n",
    "                sum1 += count[symbol][j]\n",
    "    for j in range(k):\n",
    "        m = 0\n",
    "        for symbol in \"AGTC\":\n",
    "            if count[symbol][j] > m:\n",
    "                m = count[symbol][j]\n",
    "        score += m  \n",
    "    return sum1-score\n",
    "\n",
    "def Pr(Text, Profile):\n",
    "    p=1\n",
    "    k = len(Profile[\"A\"])\n",
    "    for i in range(len(Text)):\n",
    "        p=p*Profile[Text[i]][i]\n",
    "    return p\n",
    "\n",
    "\n",
    "def ProfileMostProbablePattern(text,k,profile):\n",
    "    p=-1\n",
    "    result=text[0:k]\n",
    "    for i in range(len(text)-k+1):\n",
    "        seq=text[i:i+k]\n",
    "        pr=Pr(seq,profile)\n",
    "        if pr>p:\n",
    "            p=pr\n",
    "            result=seq\n",
    "    return result\n",
    "\n",
    "def GreedyMotifSearch(Dna,k,t):\n",
    "    BestMotifs = []\n",
    "    for i in range(0, t):\n",
    "        BestMotifs.append(Dna[i][0:k])\n",
    "    n = len(Dna[0])\n",
    "    for m in range(n-k+1):\n",
    "        Motifs = []\n",
    "        Motifs.append(Dna[0][m:m+k])\n",
    "        for j in range(1, t):\n",
    "            P = Profile(Motifs[0:j])\n",
    "            Motifs.append(ProfileMostProbablePattern(Dna[j], k, P))\n",
    "        if Score(Motifs) < Score(BestMotifs):\n",
    "            BestMotifs = Motifs\n",
    "    return BestMotifs"
   ]
  },
  {
   "cell_type": "code",
   "execution_count": null,
   "metadata": {},
   "outputs": [],
   "source": [
    "def CountWithPseudocounts(Motifs):\n",
    "    count = {} \n",
    "    k = len(Motifs[0])\n",
    "    for symbol in \"ACGT\":\n",
    "        count[symbol] = []\n",
    "        for j in range(k):\n",
    "             count[symbol].append(0)\n",
    "    t = len(Motifs)\n",
    "    for i in range(t):\n",
    "        for j in range(k):\n",
    "            symbol = Motifs[i][j]\n",
    "            count[symbol][j] += 1\n",
    "    for key in count:\n",
    "        count[key] = [x + 1 for x in count[key]]\n",
    "    return count"
   ]
  },
  {
   "cell_type": "code",
   "execution_count": null,
   "metadata": {},
   "outputs": [],
   "source": [
    "def ProfileWithPseudocounts():\n",
    "    t = len(Motifs)\n",
    "    k = len(Motifs[0])\n",
    "    profile = {}\n",
    "    count_ = CountWithPseudocounts(Motifs)\n",
    "    total = 0\n",
    "    for symbol in \"ACGT\":\n",
    "        total += count_[symbol][0]\n",
    "    for k,v in count_.items():\n",
    "        profile[k] = [ch/total for ch in v]\n",
    "    return profile"
   ]
  }
 ],
 "metadata": {
  "kernelspec": {
   "display_name": "Python 3",
   "language": "python",
   "name": "python3"
  },
  "language_info": {
   "codemirror_mode": {
    "name": "ipython",
    "version": 3
   },
   "file_extension": ".py",
   "mimetype": "text/x-python",
   "name": "python",
   "nbconvert_exporter": "python",
   "pygments_lexer": "ipython3",
   "version": "3.7.7"
  }
 },
 "nbformat": 4,
 "nbformat_minor": 4
}
