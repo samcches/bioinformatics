{
 "cells": [
  {
   "cell_type": "markdown",
   "metadata": {},
   "source": [
    "# Finding Hidden Messages in DNA ~ Code Challenges"
   ]
  },
  {
   "cell_type": "code",
   "execution_count": 1,
   "metadata": {},
   "outputs": [],
   "source": [
    "def PatternCount(T, P):\n",
    "    count = 0\n",
    "    for i in range(0, (abs(len(T))-abs(len(P)))):\n",
    "        if T[i:i+len(P)]==P:\n",
    "            count += 1\n",
    "    return count"
   ]
  },
  {
   "cell_type": "code",
   "execution_count": 2,
   "metadata": {},
   "outputs": [
    {
     "data": {
      "text/plain": [
       "25"
      ]
     },
     "execution_count": 2,
     "metadata": {},
     "output_type": "execute_result"
    }
   ],
   "source": [
    "T ='ATTAGCGGGTCAGACGGGTCAGACTTAAGGTCAGACGACATTGTGGTCAGACCTTTCGGATAGCGTCAGACGGGGTCAGACGTGGGTCAGACATAGTCAGACGTCAGACACTTTGTCAGACTCCACTGAAGTCAGACAGTATTAGAAACGCTGTCAGACGTCAGACGTCAGACAGTCAGACATGTCAGACGGTCAGACTACGCGAGAGTCAAATCCGTCAGACGTCAGACTGATTAAGTCAGACCGGTGTCGTCAGACCTGGCGTCAGACTCGATGCGTCAGACCGGGTCAGACCCGGTCAGACGTCAGACGCGTCAGACGTCAGACGGATTTTGGTCAGACTTCCTAGGTCAGACTAAGGTCAGACCGCTTGTCAGACGTGAAGATCAAGCTCGAGGGATGTCAGACTGACAGTCAGACTCATGCATCGTCAGACATGTCAGACATCCGAGTCGTCAGACGTAGTCAGACCGCTGCGTCAGACAACTGGCGCAGTCAGACCGTCAGACCGGAGTCAGACTGGTGTCAGACCGTCAGACATAAAGTCAGACGTCAGACGTCAGACGTGCAGTCAGACCGTCAGACGCGTCAGACGTGTCAGACGTCAGACAAATGTCAGACAGTCAGACGGTCAGACTAGTCAGACTGATAGTCAGACTGTCAGACGGCCTTGGCTTGTCAGACTCCCTGTCAGACGTCAGACCAGTCAGACGACTTGGTGTCAGACCCGTCAGACTGGTGTCAGACGTCAGACGTCAGACAGTCAGACCTATCGTCAGACGTCAGACGTCAGACGTCAGACAATGTCAGACGTCAGACCGTCAGACAAATCGAAGTCAGACGTCAGACTTCGGTCAGACTTCGTCAGACCGTCAGACGTCAGACGGTCAGACGTGGACTGTCAGACCTGTCAGACGTCAGACGAATGGTCAGACAAGGTCTGTCAGACCGTGTCAGACCTACAAGGTCAGACCTAGTCAGAC'\n",
    "P = 'GTCAGACGT'\n",
    "PatternCount(T, P)"
   ]
  },
  {
   "cell_type": "code",
   "execution_count": 30,
   "metadata": {},
   "outputs": [],
   "source": [
    "def FrequentWords(Text, k):\n",
    "    words = []\n",
    "    freq = FrequencyMap(Text, k)\n",
    "    m = max(freq.values())\n",
    "    for key in freq:\n",
    "        if freq[key] == m:\n",
    "            words.append(key)\n",
    "    return words\n",
    "\n",
    "def FrequencyMap(Text, k):\n",
    "    freq = {}\n",
    "    n = len(Text)\n",
    "    for i in range(n-k+1):\n",
    "        Pattern = Text[i:i+k]\n",
    "        freq[Pattern] = 0\n",
    "        for i in range(n-k+1):\n",
    "            if Text[i:i+k] == Pattern:\n",
    "                freq[Pattern] += 1\n",
    "    return freq"
   ]
  },
  {
   "cell_type": "code",
   "execution_count": 31,
   "metadata": {},
   "outputs": [
    {
     "data": {
      "text/plain": [
       "['GTCAGACGT']"
      ]
     },
     "execution_count": 31,
     "metadata": {},
     "output_type": "execute_result"
    }
   ],
   "source": [
    "FrequentWords(T, 9)"
   ]
  },
  {
   "cell_type": "code",
   "execution_count": 33,
   "metadata": {},
   "outputs": [],
   "source": [
    "def Reverse(Pattern):\n",
    "    for i in Pattern:\n",
    "        rev = \"\".join(reversed(Pattern))\n",
    "    return rev"
   ]
  },
  {
   "cell_type": "code",
   "execution_count": 34,
   "metadata": {},
   "outputs": [],
   "source": [
    "def Complement(Pattern):\n",
    "    dict = {'A':'T', 'C':'G', 'G':'C', 'T':'A'}\n",
    "    complement = \"\"\n",
    "    return complement.join(dict[i] for i in Pattern)"
   ]
  },
  {
   "cell_type": "code",
   "execution_count": null,
   "metadata": {},
   "outputs": [],
   "source": []
  }
 ],
 "metadata": {
  "kernelspec": {
   "display_name": "Python 3",
   "language": "python",
   "name": "python3"
  },
  "language_info": {
   "codemirror_mode": {
    "name": "ipython",
    "version": 3
   },
   "file_extension": ".py",
   "mimetype": "text/x-python",
   "name": "python",
   "nbconvert_exporter": "python",
   "pygments_lexer": "ipython3",
   "version": "3.7.7"
  }
 },
 "nbformat": 4,
 "nbformat_minor": 4
}
