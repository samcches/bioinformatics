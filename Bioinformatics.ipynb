{
 "cells": [
  {
   "cell_type": "markdown",
   "metadata": {},
   "source": [
    "# Finding Hidden Messages in DNA ~ Code Challenges"
   ]
  },
  {
   "cell_type": "code",
   "execution_count": 3,
   "metadata": {},
   "outputs": [],
   "source": [
    "def PatternCount(T, P):\n",
    "    count = 0\n",
    "    for i in range(0, (abs(len(T))-abs(len(P)))):\n",
    "        if T[i:i+len(P)]==P:\n",
    "            count += 1\n",
    "    return count"
   ]
  },
  {
   "cell_type": "code",
   "execution_count": 4,
   "metadata": {},
   "outputs": [
    {
     "data": {
      "text/plain": [
       "25"
      ]
     },
     "execution_count": 4,
     "metadata": {},
     "output_type": "execute_result"
    }
   ],
   "source": [
    "T ='ATTAGCGGGTCAGACGGGTCAGACTTAAGGTCAGACGACATTGTGGTCAGACCTTTCGGATAGCGTCAGACGGGGTCAGACGTGGGTCAGACATAGTCAGACGTCAGACACTTTGTCAGACTCCACTGAAGTCAGACAGTATTAGAAACGCTGTCAGACGTCAGACGTCAGACAGTCAGACATGTCAGACGGTCAGACTACGCGAGAGTCAAATCCGTCAGACGTCAGACTGATTAAGTCAGACCGGTGTCGTCAGACCTGGCGTCAGACTCGATGCGTCAGACCGGGTCAGACCCGGTCAGACGTCAGACGCGTCAGACGTCAGACGGATTTTGGTCAGACTTCCTAGGTCAGACTAAGGTCAGACCGCTTGTCAGACGTGAAGATCAAGCTCGAGGGATGTCAGACTGACAGTCAGACTCATGCATCGTCAGACATGTCAGACATCCGAGTCGTCAGACGTAGTCAGACCGCTGCGTCAGACAACTGGCGCAGTCAGACCGTCAGACCGGAGTCAGACTGGTGTCAGACCGTCAGACATAAAGTCAGACGTCAGACGTCAGACGTGCAGTCAGACCGTCAGACGCGTCAGACGTGTCAGACGTCAGACAAATGTCAGACAGTCAGACGGTCAGACTAGTCAGACTGATAGTCAGACTGTCAGACGGCCTTGGCTTGTCAGACTCCCTGTCAGACGTCAGACCAGTCAGACGACTTGGTGTCAGACCCGTCAGACTGGTGTCAGACGTCAGACGTCAGACAGTCAGACCTATCGTCAGACGTCAGACGTCAGACGTCAGACAATGTCAGACGTCAGACCGTCAGACAAATCGAAGTCAGACGTCAGACTTCGGTCAGACTTCGTCAGACCGTCAGACGTCAGACGGTCAGACGTGGACTGTCAGACCTGTCAGACGTCAGACGAATGGTCAGACAAGGTCTGTCAGACCGTGTCAGACCTACAAGGTCAGACCTAGTCAGAC'\n",
    "P = 'GTCAGACGT'\n",
    "PatternCount(T, P)"
   ]
  },
  {
   "cell_type": "code",
   "execution_count": null,
   "metadata": {},
   "outputs": [],
   "source": []
  }
 ],
 "metadata": {
  "kernelspec": {
   "display_name": "Python 3",
   "language": "python",
   "name": "python3"
  },
  "language_info": {
   "codemirror_mode": {
    "name": "ipython",
    "version": 3
   },
   "file_extension": ".py",
   "mimetype": "text/x-python",
   "name": "python",
   "nbconvert_exporter": "python",
   "pygments_lexer": "ipython3",
   "version": "3.7.7"
  }
 },
 "nbformat": 4,
 "nbformat_minor": 4
}
